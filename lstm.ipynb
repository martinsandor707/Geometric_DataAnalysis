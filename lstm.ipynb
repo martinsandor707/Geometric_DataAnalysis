{
 "cells": [
  {
   "cell_type": "markdown",
   "metadata": {},
   "source": [
    "# Importing libraries"
   ]
  },
  {
   "cell_type": "code",
   "execution_count": 1,
   "metadata": {},
   "outputs": [],
   "source": [
    "import yfinance as yf\n",
    "import pandas as pd\n",
    "import numpy as np\n",
    "import matplotlib.pyplot as plt\n",
    "import seaborn as sns\n",
    "import torch\n",
    "import torch.nn as nn\n",
    "from sklearn.model_selection import train_test_split\n",
    "from sklearn.preprocessing import MinMaxScaler, StandardScaler"
   ]
  },
  {
   "cell_type": "code",
   "execution_count": 2,
   "metadata": {},
   "outputs": [
    {
     "name": "stdout",
     "output_type": "stream",
     "text": [
      "YF.download() has changed argument auto_adjust default to True\n"
     ]
    },
    {
     "name": "stderr",
     "output_type": "stream",
     "text": [
      "[*********************100%***********************]  1 of 1 completed\n"
     ]
    },
    {
     "data": {
      "application/vnd.microsoft.datawrangler.viewer.v0+json": {
       "columns": [
        {
         "name": "Date",
         "rawType": "datetime64[ns]",
         "type": "datetime"
        },
        {
         "name": "Close",
         "rawType": "float64",
         "type": "float"
        },
        {
         "name": "High",
         "rawType": "float64",
         "type": "float"
        },
        {
         "name": "Low",
         "rawType": "float64",
         "type": "float"
        },
        {
         "name": "Open",
         "rawType": "float64",
         "type": "float"
        },
        {
         "name": "Volume",
         "rawType": "int64",
         "type": "integer"
        }
       ],
       "conversionMethod": "pd.DataFrame",
       "ref": "501ae664-5c05-4cd7-974b-ecadc780d754",
       "rows": [
        [
         "2010-01-04 00:00:00",
         "6.440332412719727",
         "6.455078215013772",
         "6.391279918788766",
         "6.422878123960718",
         "493729600"
        ],
        [
         "2010-01-05 00:00:00",
         "6.451466083526611",
         "6.487879368872802",
         "6.417459939457402",
         "6.458086826968792",
         "601904800"
        ],
        [
         "2010-01-06 00:00:00",
         "6.348845481872559",
         "6.477044307725826",
         "6.342224739983206",
         "6.45146457040068",
         "552160000"
        ],
        [
         "2010-01-07 00:00:00",
         "6.337108135223389",
         "6.379841611717165",
         "6.291065091462022",
         "6.37231804159629",
         "477131200"
        ],
        [
         "2010-01-08 00:00:00",
         "6.379240036010742",
         "6.3798423234804025",
         "6.291367539745052",
         "6.328682844536467",
         "447610800"
        ]
       ],
       "shape": {
        "columns": 5,
        "rows": 5
       }
      },
      "text/html": [
       "<div>\n",
       "<style scoped>\n",
       "    .dataframe tbody tr th:only-of-type {\n",
       "        vertical-align: middle;\n",
       "    }\n",
       "\n",
       "    .dataframe tbody tr th {\n",
       "        vertical-align: top;\n",
       "    }\n",
       "\n",
       "    .dataframe thead th {\n",
       "        text-align: right;\n",
       "    }\n",
       "</style>\n",
       "<table border=\"1\" class=\"dataframe\">\n",
       "  <thead>\n",
       "    <tr style=\"text-align: right;\">\n",
       "      <th>Price</th>\n",
       "      <th>Close</th>\n",
       "      <th>High</th>\n",
       "      <th>Low</th>\n",
       "      <th>Open</th>\n",
       "      <th>Volume</th>\n",
       "    </tr>\n",
       "    <tr>\n",
       "      <th>Date</th>\n",
       "      <th></th>\n",
       "      <th></th>\n",
       "      <th></th>\n",
       "      <th></th>\n",
       "      <th></th>\n",
       "    </tr>\n",
       "  </thead>\n",
       "  <tbody>\n",
       "    <tr>\n",
       "      <th>2010-01-04</th>\n",
       "      <td>6.440332</td>\n",
       "      <td>6.455078</td>\n",
       "      <td>6.391280</td>\n",
       "      <td>6.422878</td>\n",
       "      <td>493729600</td>\n",
       "    </tr>\n",
       "    <tr>\n",
       "      <th>2010-01-05</th>\n",
       "      <td>6.451466</td>\n",
       "      <td>6.487879</td>\n",
       "      <td>6.417460</td>\n",
       "      <td>6.458087</td>\n",
       "      <td>601904800</td>\n",
       "    </tr>\n",
       "    <tr>\n",
       "      <th>2010-01-06</th>\n",
       "      <td>6.348845</td>\n",
       "      <td>6.477044</td>\n",
       "      <td>6.342225</td>\n",
       "      <td>6.451465</td>\n",
       "      <td>552160000</td>\n",
       "    </tr>\n",
       "    <tr>\n",
       "      <th>2010-01-07</th>\n",
       "      <td>6.337108</td>\n",
       "      <td>6.379842</td>\n",
       "      <td>6.291065</td>\n",
       "      <td>6.372318</td>\n",
       "      <td>477131200</td>\n",
       "    </tr>\n",
       "    <tr>\n",
       "      <th>2010-01-08</th>\n",
       "      <td>6.379240</td>\n",
       "      <td>6.379842</td>\n",
       "      <td>6.291368</td>\n",
       "      <td>6.328683</td>\n",
       "      <td>447610800</td>\n",
       "    </tr>\n",
       "  </tbody>\n",
       "</table>\n",
       "</div>"
      ],
      "text/plain": [
       "Price          Close      High       Low      Open     Volume\n",
       "Date                                                         \n",
       "2010-01-04  6.440332  6.455078  6.391280  6.422878  493729600\n",
       "2010-01-05  6.451466  6.487879  6.417460  6.458087  601904800\n",
       "2010-01-06  6.348845  6.477044  6.342225  6.451465  552160000\n",
       "2010-01-07  6.337108  6.379842  6.291065  6.372318  477131200\n",
       "2010-01-08  6.379240  6.379842  6.291368  6.328683  447610800"
      ]
     },
     "execution_count": 2,
     "metadata": {},
     "output_type": "execute_result"
    }
   ],
   "source": [
    "df = yf.download('AAPL', start='2010-01-01', end='2024-01-01')\n",
    "df.columns = df.columns.droplevel(1) \n",
    "df.head()"
   ]
  },
  {
   "cell_type": "code",
   "execution_count": 3,
   "metadata": {},
   "outputs": [
    {
     "data": {
      "application/vnd.microsoft.datawrangler.viewer.v0+json": {
       "columns": [
        {
         "name": "index",
         "rawType": "object",
         "type": "string"
        },
        {
         "name": "Close",
         "rawType": "float64",
         "type": "float"
        },
        {
         "name": "High",
         "rawType": "float64",
         "type": "float"
        },
        {
         "name": "Low",
         "rawType": "float64",
         "type": "float"
        },
        {
         "name": "Open",
         "rawType": "float64",
         "type": "float"
        },
        {
         "name": "Volume",
         "rawType": "float64",
         "type": "float"
        }
       ],
       "conversionMethod": "pd.DataFrame",
       "ref": "d78cfb08-1a5f-43a0-8907-c3e2deb4c78d",
       "rows": [
        [
         "count",
         "3522.0",
         "3522.0",
         "3522.0",
         "3522.0",
         "3522.0"
        ],
        [
         "mean",
         "57.57468119052105",
         "58.154506866929715",
         "56.94030400198775",
         "57.53258583736034",
         "242283396.08177173"
        ],
        [
         "std",
         "55.52011111761917",
         "56.08890778460753",
         "54.88950053665833",
         "55.463714148768865",
         "220457847.76768857"
        ],
        [
         "min",
         "5.779477596282959",
         "5.898345437483027",
         "5.725306646729277",
         "5.78910558295049",
         "24048300.0"
        ],
        [
         "25%",
         "16.948899269104004",
         "17.103423008199414",
         "16.785681642307154",
         "16.966750465888744",
         "92667600.0"
        ],
        [
         "50%",
         "29.03949737548828",
         "29.25541731970778",
         "28.786080465174386",
         "29.039398653574416",
         "152660200.0"
        ],
        [
         "75%",
         "88.7762622833252",
         "90.04646433633778",
         "88.01521803700183",
         "88.78172313902083",
         "328471500.0"
        ],
        [
         "max",
         "196.92767333984375",
         "198.4286561477334",
         "195.82429416614897",
         "196.83821410318075",
         "1880998000.0"
        ]
       ],
       "shape": {
        "columns": 5,
        "rows": 8
       }
      },
      "text/html": [
       "<div>\n",
       "<style scoped>\n",
       "    .dataframe tbody tr th:only-of-type {\n",
       "        vertical-align: middle;\n",
       "    }\n",
       "\n",
       "    .dataframe tbody tr th {\n",
       "        vertical-align: top;\n",
       "    }\n",
       "\n",
       "    .dataframe thead th {\n",
       "        text-align: right;\n",
       "    }\n",
       "</style>\n",
       "<table border=\"1\" class=\"dataframe\">\n",
       "  <thead>\n",
       "    <tr style=\"text-align: right;\">\n",
       "      <th>Price</th>\n",
       "      <th>Close</th>\n",
       "      <th>High</th>\n",
       "      <th>Low</th>\n",
       "      <th>Open</th>\n",
       "      <th>Volume</th>\n",
       "    </tr>\n",
       "  </thead>\n",
       "  <tbody>\n",
       "    <tr>\n",
       "      <th>count</th>\n",
       "      <td>3522.000000</td>\n",
       "      <td>3522.000000</td>\n",
       "      <td>3522.000000</td>\n",
       "      <td>3522.000000</td>\n",
       "      <td>3.522000e+03</td>\n",
       "    </tr>\n",
       "    <tr>\n",
       "      <th>mean</th>\n",
       "      <td>57.574681</td>\n",
       "      <td>58.154507</td>\n",
       "      <td>56.940304</td>\n",
       "      <td>57.532586</td>\n",
       "      <td>2.422834e+08</td>\n",
       "    </tr>\n",
       "    <tr>\n",
       "      <th>std</th>\n",
       "      <td>55.520111</td>\n",
       "      <td>56.088908</td>\n",
       "      <td>54.889501</td>\n",
       "      <td>55.463714</td>\n",
       "      <td>2.204578e+08</td>\n",
       "    </tr>\n",
       "    <tr>\n",
       "      <th>min</th>\n",
       "      <td>5.779478</td>\n",
       "      <td>5.898345</td>\n",
       "      <td>5.725307</td>\n",
       "      <td>5.789106</td>\n",
       "      <td>2.404830e+07</td>\n",
       "    </tr>\n",
       "    <tr>\n",
       "      <th>25%</th>\n",
       "      <td>16.948899</td>\n",
       "      <td>17.103423</td>\n",
       "      <td>16.785682</td>\n",
       "      <td>16.966750</td>\n",
       "      <td>9.266760e+07</td>\n",
       "    </tr>\n",
       "    <tr>\n",
       "      <th>50%</th>\n",
       "      <td>29.039497</td>\n",
       "      <td>29.255417</td>\n",
       "      <td>28.786080</td>\n",
       "      <td>29.039399</td>\n",
       "      <td>1.526602e+08</td>\n",
       "    </tr>\n",
       "    <tr>\n",
       "      <th>75%</th>\n",
       "      <td>88.776262</td>\n",
       "      <td>90.046464</td>\n",
       "      <td>88.015218</td>\n",
       "      <td>88.781723</td>\n",
       "      <td>3.284715e+08</td>\n",
       "    </tr>\n",
       "    <tr>\n",
       "      <th>max</th>\n",
       "      <td>196.927673</td>\n",
       "      <td>198.428656</td>\n",
       "      <td>195.824294</td>\n",
       "      <td>196.838214</td>\n",
       "      <td>1.880998e+09</td>\n",
       "    </tr>\n",
       "  </tbody>\n",
       "</table>\n",
       "</div>"
      ],
      "text/plain": [
       "Price        Close         High          Low         Open        Volume\n",
       "count  3522.000000  3522.000000  3522.000000  3522.000000  3.522000e+03\n",
       "mean     57.574681    58.154507    56.940304    57.532586  2.422834e+08\n",
       "std      55.520111    56.088908    54.889501    55.463714  2.204578e+08\n",
       "min       5.779478     5.898345     5.725307     5.789106  2.404830e+07\n",
       "25%      16.948899    17.103423    16.785682    16.966750  9.266760e+07\n",
       "50%      29.039497    29.255417    28.786080    29.039399  1.526602e+08\n",
       "75%      88.776262    90.046464    88.015218    88.781723  3.284715e+08\n",
       "max     196.927673   198.428656   195.824294   196.838214  1.880998e+09"
      ]
     },
     "execution_count": 3,
     "metadata": {},
     "output_type": "execute_result"
    },
    {
     "data": {
      "image/png": "[encoded data removed]",
      "text/plain": [
       "<Figure size 1000x600 with 1 Axes>"
      ]
     },
     "metadata": {},
     "output_type": "display_data"
    }
   ],
   "source": [
    "plt.figure(figsize=(10,6))\n",
    "plt.plot(\n",
    "  df.index,\n",
    "  df['Close'],\n",
    "  #label=\"Close Price ($)\",\n",
    "  color=\"green\"\n",
    ")\n",
    "#plt.legend(fontsize=18, loc=\"upper left\")\n",
    "plt.yticks(fontsize=14)\n",
    "plt.xlabel(\"Date\", fontsize=20)\n",
    "plt.xticks(fontsize=14)\n",
    "plt.ylabel(\"Closing Price ($)\", fontsize=20)\n",
    "plt.title(\"Apple daily prices (Training Set)\", fontsize=20)\n",
    "plt.tight_layout()\n",
    "df.describe()"
   ]
  },
  {
   "cell_type": "markdown",
   "metadata": {},
   "source": [
    "# Scaling"
   ]
  },
  {
   "cell_type": "code",
   "execution_count": 4,
   "metadata": {},
   "outputs": [],
   "source": [
    "X, y = df.drop(columns=['Close']), df['Close'].values\n",
    "\n",
    "mm = MinMaxScaler()\n",
    "ss = StandardScaler()\n",
    "X_trans = ss.fit_transform(X)\n",
    "y_trans = mm.fit_transform(y.reshape(-1, 1))    # Scaling is crucial for NNs"
   ]
  },
  {
   "cell_type": "markdown",
   "metadata": {},
   "source": [
    "## Preparing data"
   ]
  },
  {
   "cell_type": "code",
   "execution_count": 7,
   "metadata": {},
   "outputs": [
    {
     "name": "stdout",
     "output_type": "stream",
     "text": [
      "(3374, 100, 4) (3374, 50)\n"
     ]
    }
   ],
   "source": [
    "def split_sequences(input_sequences, output_sequences, n_steps_in, n_steps_out):\n",
    "    X, y = list(), list() #Instantiate X and y\n",
    "    for i in range(len(input_sequences)):\n",
    "        # Find the end of the input, output sequence\n",
    "        end_idx = i + n_steps_in\n",
    "        out_end_idx = end_idx + n_steps_out - 1\n",
    "\n",
    "        # Check if we are beyond the dataset\n",
    "        if out_end_idx > len(input_sequences):\n",
    "            break\n",
    "        # Gather input and output of the pattern\n",
    "        seq_x = input_sequences[i:end_idx]\n",
    "        seq_y = output_sequences[end_idx-1:out_end_idx, - 1]\n",
    "        X.append(seq_x)\n",
    "        y.append(seq_y)\n",
    "    return np.array(X), np.array(y)\n",
    "\n",
    "X_ss, y_mm = split_sequences(X_trans, y_trans, 100, 50) # Let's try to predict 50 days based on 100\n",
    "print(X_ss.shape, y_mm.shape)"
   ]
  },
  {
   "cell_type": "markdown",
   "metadata": {},
   "source": [
    "Let's check that the first sample in `y_mm` indeed starts at the 100th sample in the original target `y` vector."
   ]
  },
  {
   "cell_type": "code",
   "execution_count": 8,
   "metadata": {},
   "outputs": [
    {
     "data": {
      "text/plain": [
       "array([0.0081961 , 0.00965081, 0.01020656, 0.01082843, 0.01131965,\n",
       "       0.01118897, 0.01006173, 0.0092714 , 0.00901792, 0.00805284,\n",
       "       0.00920369, 0.00967601, 0.00979722, 0.01064897, 0.01183918,\n",
       "       0.01256654, 0.01291288, 0.01229889, 0.01287824, 0.01242483,\n",
       "       0.01211468, 0.01175257, 0.0120045 , 0.01009477, 0.00936427,\n",
       "       0.00888411, 0.00864165, 0.00890772, 0.01048835, 0.01039707,\n",
       "       0.01063793, 0.0102711 , 0.00940679, 0.00955321, 0.00935168,\n",
       "       0.00910765, 0.00842755, 0.00942096, 0.00979092, 0.01054345,\n",
       "       0.01068832, 0.01058441, 0.01134011, 0.0108489 , 0.0104002 ,\n",
       "       0.01026481, 0.01098903, 0.01100162, 0.01116692, 0.0109654 ])"
      ]
     },
     "execution_count": 8,
     "metadata": {},
     "output_type": "execute_result"
    }
   ],
   "source": [
    "y_mm[0]"
   ]
  },
  {
   "cell_type": "code",
   "execution_count": 9,
   "metadata": {},
   "outputs": [
    {
     "data": {
      "text/plain": [
       "array([0.0081961 , 0.00965081, 0.01020656, 0.01082843, 0.01131965,\n",
       "       0.01118897, 0.01006173, 0.0092714 , 0.00901792, 0.00805284,\n",
       "       0.00920369, 0.00967601, 0.00979722, 0.01064897, 0.01183918,\n",
       "       0.01256654, 0.01291288, 0.01229889, 0.01287824, 0.01242483,\n",
       "       0.01211468, 0.01175257, 0.0120045 , 0.01009477, 0.00936427,\n",
       "       0.00888411, 0.00864165, 0.00890772, 0.01048835, 0.01039707,\n",
       "       0.01063793, 0.0102711 , 0.00940679, 0.00955321, 0.00935168,\n",
       "       0.00910765, 0.00842755, 0.00942096, 0.00979092, 0.01054345,\n",
       "       0.01068832, 0.01058441, 0.01134011, 0.0108489 , 0.0104002 ,\n",
       "       0.01026481, 0.01098903, 0.01100162, 0.01116692, 0.0109654 ])"
      ]
     },
     "execution_count": 9,
     "metadata": {},
     "output_type": "execute_result"
    }
   ],
   "source": [
    "y_trans[99:149].squeeze(1)"
   ]
  },
  {
   "cell_type": "code",
   "execution_count": 11,
   "metadata": {},
   "outputs": [],
   "source": [
    "assert y_mm[0].all() == y_trans[99:149].squeeze(1).all()"
   ]
  },
  {
   "cell_type": "markdown",
   "metadata": {},
   "source": [
    "## Train/Test split\n",
    "\n",
    "We want to predict the data several months into the future. Thus, we'll use a training data size of 95% , with 5% left for the data we want to predict."
   ]
  },
  {
   "cell_type": "code",
   "execution_count": null,
   "metadata": {},
   "outputs": [
    {
     "name": "stdout",
     "output_type": "stream",
     "text": [
      "The meaning of each dimension in order: batch size, sequence length, number of features\n",
      "Training shape: (3205, 100, 4), (3205, 50)\n",
      "Testing shape: (169, 100, 4), (169, 50)\n",
      "Total samples: 3374\n",
      "Cutoff idx: 3205\n"
     ]
    }
   ],
   "source": [
    "total_samples = len(X_ss)\n",
    "train_test_cutoff = round(total_samples * 0.95)\n",
    "\n",
    "X_train, X_test = X_ss[:train_test_cutoff], X_ss[train_test_cutoff:]\n",
    "y_train, y_test = y_mm[:train_test_cutoff], y_mm[train_test_cutoff:]\n",
    "print(\"The meaning of each dimension in order: batch size, sequence length, number of features (input size)\")\n",
    "print(f\"Training shape: {X_train.shape}, {y_train.shape}\")\n",
    "print(f\"Testing shape: {X_test.shape}, {y_test.shape}\")\n",
    "print(f\"Total samples: {total_samples}\\nCutoff idx: {train_test_cutoff}\")    "
   ]
  },
  {
   "cell_type": "markdown",
   "metadata": {},
   "source": [
    "## Converting to tensors"
   ]
  },
  {
   "cell_type": "code",
   "execution_count": 30,
   "metadata": {},
   "outputs": [
    {
     "name": "stdout",
     "output_type": "stream",
     "text": [
      "torch.Size([3205, 100, 4]) torch.Size([3205, 50])\n",
      "torch.Size([169, 100, 4]) torch.Size([169, 50])\n"
     ]
    }
   ],
   "source": [
    "X_train_tensors = torch.tensor(X_train)\n",
    "X_test_tensors = torch.tensor(X_test)\n",
    "\n",
    "y_train_tensors = torch.tensor(y_train)\n",
    "y_test_tensors = torch.tensor(y_test)\n",
    "\n",
    "\n",
    "print(X_train_tensors.shape, y_train_tensors.shape)\n",
    "print(X_test_tensors.shape, y_test_tensors.shape)"
   ]
  },
  {
   "cell_type": "markdown",
   "metadata": {},
   "source": [
    "Check if the 50 values we will be predicting match the last 50 values of `y` in the test set"
   ]
  },
  {
   "cell_type": "code",
   "execution_count": 32,
   "metadata": {},
   "outputs": [
    {
     "data": {
      "text/plain": [
       "array([[1.77448042e+02, 1.75048891e+02, 1.75435531e+02, 5.59644000e+07],\n",
       "       [1.77804968e+02, 1.75237269e+02, 1.75802366e+02, 9.96253000e+07],\n",
       "       [1.78568330e+02, 1.75405808e+02, 1.76169179e+02, 6.89018000e+07],\n",
       "       [1.80214026e+02, 1.77715731e+02, 1.79470487e+02, 6.19459000e+07]])"
      ]
     },
     "execution_count": 32,
     "metadata": {},
     "output_type": "execute_result"
    }
   ],
   "source": [
    "X_check, y_check = split_sequences(X, y.reshape(-1, 1), 100, 50)\n",
    "X_check[-1][0:4]"
   ]
  },
  {
   "cell_type": "code",
   "execution_count": 33,
   "metadata": {},
   "outputs": [
    {
     "data": {
      "application/vnd.microsoft.datawrangler.viewer.v0+json": {
       "columns": [
        {
         "name": "Date",
         "rawType": "datetime64[ns]",
         "type": "datetime"
        },
        {
         "name": "High",
         "rawType": "float64",
         "type": "float"
        },
        {
         "name": "Low",
         "rawType": "float64",
         "type": "float"
        },
        {
         "name": "Open",
         "rawType": "float64",
         "type": "float"
        },
        {
         "name": "Volume",
         "rawType": "int64",
         "type": "integer"
        }
       ],
       "conversionMethod": "pd.DataFrame",
       "ref": "64dde10b-596a-4dca-a987-3a307e4770d6",
       "rows": [
        [
         "2023-05-30 00:00:00",
         "177.44804166812344",
         "175.0488913092159",
         "175.43553093054112",
         "55964400"
        ],
        [
         "2023-05-31 00:00:00",
         "177.80496826079084",
         "175.23726871202743",
         "175.80236562165695",
         "99625300"
        ],
        [
         "2023-06-01 00:00:00",
         "178.5683298287558",
         "175.405808045758",
         "176.1691790241155",
         "68901800"
        ],
        [
         "2023-06-02 00:00:00",
         "180.21402596420296",
         "177.71573067078862",
         "179.4704869589175",
         "61945900"
        ]
       ],
       "shape": {
        "columns": 4,
        "rows": 4
       }
      },
      "text/html": [
       "<div>\n",
       "<style scoped>\n",
       "    .dataframe tbody tr th:only-of-type {\n",
       "        vertical-align: middle;\n",
       "    }\n",
       "\n",
       "    .dataframe tbody tr th {\n",
       "        vertical-align: top;\n",
       "    }\n",
       "\n",
       "    .dataframe thead th {\n",
       "        text-align: right;\n",
       "    }\n",
       "</style>\n",
       "<table border=\"1\" class=\"dataframe\">\n",
       "  <thead>\n",
       "    <tr style=\"text-align: right;\">\n",
       "      <th>Price</th>\n",
       "      <th>High</th>\n",
       "      <th>Low</th>\n",
       "      <th>Open</th>\n",
       "      <th>Volume</th>\n",
       "    </tr>\n",
       "    <tr>\n",
       "      <th>Date</th>\n",
       "      <th></th>\n",
       "      <th></th>\n",
       "      <th></th>\n",
       "      <th></th>\n",
       "    </tr>\n",
       "  </thead>\n",
       "  <tbody>\n",
       "    <tr>\n",
       "      <th>2023-05-30</th>\n",
       "      <td>177.448042</td>\n",
       "      <td>175.048891</td>\n",
       "      <td>175.435531</td>\n",
       "      <td>55964400</td>\n",
       "    </tr>\n",
       "    <tr>\n",
       "      <th>2023-05-31</th>\n",
       "      <td>177.804968</td>\n",
       "      <td>175.237269</td>\n",
       "      <td>175.802366</td>\n",
       "      <td>99625300</td>\n",
       "    </tr>\n",
       "    <tr>\n",
       "      <th>2023-06-01</th>\n",
       "      <td>178.568330</td>\n",
       "      <td>175.405808</td>\n",
       "      <td>176.169179</td>\n",
       "      <td>68901800</td>\n",
       "    </tr>\n",
       "    <tr>\n",
       "      <th>2023-06-02</th>\n",
       "      <td>180.214026</td>\n",
       "      <td>177.715731</td>\n",
       "      <td>179.470487</td>\n",
       "      <td>61945900</td>\n",
       "    </tr>\n",
       "  </tbody>\n",
       "</table>\n",
       "</div>"
      ],
      "text/plain": [
       "Price             High         Low        Open    Volume\n",
       "Date                                                    \n",
       "2023-05-30  177.448042  175.048891  175.435531  55964400\n",
       "2023-05-31  177.804968  175.237269  175.802366  99625300\n",
       "2023-06-01  178.568330  175.405808  176.169179  68901800\n",
       "2023-06-02  180.214026  177.715731  179.470487  61945900"
      ]
     },
     "execution_count": 33,
     "metadata": {},
     "output_type": "execute_result"
    }
   ],
   "source": [
    "X.iloc[-149:-145]"
   ]
  },
  {
   "cell_type": "code",
   "execution_count": 34,
   "metadata": {},
   "outputs": [
    {
     "data": {
      "text/plain": [
       "array([174.18336487, 171.62217712, 171.74127197, 172.17807007,\n",
       "       169.85510254, 165.67570496, 166.99604797, 169.05096436,\n",
       "       169.52749634, 172.70422363, 176.27801514, 175.36471558,\n",
       "       177.92591858, 180.49711609, 181.55931091, 181.08280945,\n",
       "       185.28753662, 183.69709778, 186.3213501 , 186.88793945,\n",
       "       188.57780457, 188.5579071 , 190.30740356, 189.50224304,\n",
       "       190.16824341, 188.83624268, 188.65730286, 189.26367188,\n",
       "       188.23982239, 188.81636047, 190.09867859, 188.29945374,\n",
       "       192.26564026, 191.17222595, 193.11058044, 194.54199219,\n",
       "       192.02706909, 193.54797363, 196.77856445, 196.92767334,\n",
       "       196.39089966, 194.72091675, 195.76464844, 193.66725159,\n",
       "       193.51812744, 192.44458008, 191.89787292, 191.99726868,\n",
       "       192.42471313, 191.38095093])"
      ]
     },
     "execution_count": 34,
     "metadata": {},
     "output_type": "execute_result"
    }
   ],
   "source": [
    "y_check[-1]"
   ]
  },
  {
   "cell_type": "code",
   "execution_count": 35,
   "metadata": {},
   "outputs": [
    {
     "data": {
      "text/plain": [
       "array([174.18336487, 171.62217712, 171.74127197, 172.17807007,\n",
       "       169.85510254, 165.67570496, 166.99604797, 169.05096436,\n",
       "       169.52749634, 172.70422363, 176.27801514, 175.36471558,\n",
       "       177.92591858, 180.49711609, 181.55931091, 181.08280945,\n",
       "       185.28753662, 183.69709778, 186.3213501 , 186.88793945,\n",
       "       188.57780457, 188.5579071 , 190.30740356, 189.50224304,\n",
       "       190.16824341, 188.83624268, 188.65730286, 189.26367188,\n",
       "       188.23982239, 188.81636047, 190.09867859, 188.29945374,\n",
       "       192.26564026, 191.17222595, 193.11058044, 194.54199219,\n",
       "       192.02706909, 193.54797363, 196.77856445, 196.92767334,\n",
       "       196.39089966, 194.72091675, 195.76464844, 193.66725159,\n",
       "       193.51812744, 192.44458008, 191.89787292, 191.99726868,\n",
       "       192.42471313, 191.38095093])"
      ]
     },
     "execution_count": 35,
     "metadata": {},
     "output_type": "execute_result"
    }
   ],
   "source": [
    "df['Close'].values[-50:]"
   ]
  },
  {
   "cell_type": "markdown",
   "metadata": {},
   "source": [
    "## Building the LSTM model"
   ]
  },
  {
   "cell_type": "code",
   "execution_count": null,
   "metadata": {},
   "outputs": [],
   "source": [
    "class LSTM(nn.Module):\n",
    "    def __init__(self, num_classes, input_size, hidden_size, num_layers):\n",
    "        super().__init__()\n",
    "        self.num_classes = num_classes # output size\n",
    "        self.num_layers = num_layers # number of recurrent layers in the lstm\n",
    "        self.input_size = input_size # input size\n",
    "        self.hidden_size = hidden_size # neurons in each lstm layer\n",
    "        # LSTM model\n",
    "        self.lstm = nn.LSTM(input_size=input_size, hidden_size=hidden_size, \n",
    "                            num_layers=num_layers, batch_first=True, dropout=0.2) # lstm\n",
    "        self.fc_1 = nn.Linear(hidden_size,128) # fully connected\n",
    "        self.fc_2 = nn.Linear(128, num_classes) # fully connected last layer\n",
    "        self.relu = nn.ReLU()\n",
    "\n",
    "    def forward(self,x):\n",
    "        # hidden state\n",
    "        h_0 = torch.zeros(self.num_layers, x.size(0), self.hidden_size)\n",
    "        # Cell state\n",
    "        c_0 = torch.zeros(self.num_layers, x.size(0), self.hidden_size)\n",
    "        # Propagate input through LSTM\n",
    "        output, (hn, cn) = self.lstm(x, (h_0, c_0)) # Input, hidden and internal state\n",
    "        hn = hn.view(-1, self.hidden_size) # Reshaping data for dense layer next\n",
    "        out = self.relu(hn)\n",
    "        out = self.fc_1(out) # first dense\n",
    "        out = self.relu(out) # relu\n",
    "        out = self.fc_2(out) # final output\n",
    "        return out"
   ]
  },
  {
   "cell_type": "code",
   "execution_count": null,
   "metadata": {},
   "outputs": [],
   "source": [
    "device = torch.device(\"cuda\" if torch.cuda.is_available() else \"cpu\")\n",
    "model = LSTM_Network().to(device)\n",
    "\n",
    "criterion = nn.MSELoss() # We'll use Mean Squared Error as our loss function\n",
    "optimizer = torch.optim.Adam(model.parameters(), lr=0.001) # And Adam as our optimizer"
   ]
  },
  {
   "cell_type": "markdown",
   "metadata": {},
   "source": [
    "## Training the model"
   ]
  },
  {
   "cell_type": "code",
   "execution_count": null,
   "metadata": {},
   "outputs": [],
   "source": [
    "def training_loop(n_epochs, lstm, optimizer, loss_fn, X_train, y_train, X_test, y_test):\n",
    "    for epoch in range(0, n_epochs):\n",
    "        lstm.train()\n",
    "        outputs = lstm.forward(X_train) # Forward pass\n",
    "        optimizer.zero_grad() # Calculate the gradient, manually setting to 0\n",
    "        # Obtain loss function\n",
    "        loss = loss_fn(outputs, y_train)\n",
    "        loss.backward() # Calculates the loss of the loss function\n",
    "        optimizer.step() # Improve from loss, i.e backprop\n",
    "        # Test loss\n",
    "        lstm.eval()\n",
    "        test_preds = lstm(X_test)\n",
    "        test_loss = loss_fn(test_preds, y_test)\n",
    "        if epoch % 100 == 0:\n",
    "            print(f\"Epoch: {epoch}, Train Loss: {round(loss.item(),5)}, Test Loss: {round(test_loss.item(),5)}\")"
   ]
  },
  {
   "cell_type": "code",
   "execution_count": null,
   "metadata": {},
   "outputs": [],
   "source": [
    "n_epochs = 1000\n",
    "learning_rate = 0.001\n",
    "\n",
    "input_size = 4 # Nr of features\n",
    "hidden_size = 2 # Nr of features in hidden state\n",
    "num_layers = 1 # Nr of stacked LSTM layers\n",
    "\n",
    "num_classes = 50 # Nr of output classes\n",
    "\n",
    "#device = torch.device(\"cuda\" if torch.cuda.is_available() else \"cpu\")\n",
    "lstm = LSTM(num_classes, input_size, hidden_size, num_layers)#.to(device)\n",
    "\n",
    "loss_fn = torch.nn.MSELoss()\n",
    "optimizer = torch.optim.Adam(lstm.parameters(), lr=learning_rate)"
   ]
  },
  {
   "cell_type": "code",
   "execution_count": null,
   "metadata": {},
   "outputs": [],
   "source": [
    "training_loop(n_epochs=n_epochs, \n",
    "              lstm=lstm, \n",
    "              optimizer=optimizer, \n",
    "              loss_fn=loss_fn, \n",
    "              X_train=X_train_tensors, \n",
    "              y_train=y_train_tensors, \n",
    "              X_test=X_test_tensors, \n",
    "              y_test=y_test_tensors)"
   ]
  },
  {
   "cell_type": "markdown",
   "metadata": {},
   "source": [
    "## Evaluating model"
   ]
  },
  {
   "cell_type": "code",
   "execution_count": 52,
   "metadata": {},
   "outputs": [],
   "source": [
    "model.eval()\n",
    "with torch.no_grad():\n",
    "    test_features = torch.tensor(np.array([s[0] for s in test_sequences]), dtype=torch.float32).to(device)\n",
    "    #test_labels = torch.tensor(np.array([s[1] for s in test_sequences]), dtype=torch.float32).unsqueeze(1).to(device)\n",
    "    test_predictions = model(test_features).cpu().numpy()"
   ]
  },
  {
   "cell_type": "code",
   "execution_count": 53,
   "metadata": {},
   "outputs": [
    {
     "data": {
      "image/png": "[encoded data removed]",
      "text/plain": [
       "<Figure size 640x480 with 1 Axes>"
      ]
     },
     "metadata": {},
     "output_type": "display_data"
    }
   ],
   "source": [
    "dates = df.index.values\n",
    "plt.plot(dates[train_size:len(X)], test_data, label='True Values')\n",
    "plt.plot(dates[train_size+seq_length:len(X)], test_predictions, label='Predicted Values')\n",
    "plt.xlabel('Date')\n",
    "plt.ylabel('Normalized Close Price')\n",
    "plt.title('Stock Price Forecasting')\n",
    "plt.legend()\n",
    "plt.show()"
   ]
  },
  {
   "cell_type": "code",
   "execution_count": 54,
   "metadata": {},
   "outputs": [
    {
     "data": {
      "application/vnd.microsoft.datawrangler.viewer.v0+json": {
       "columns": [
        {
         "name": "Date",
         "rawType": "datetime64[ns]",
         "type": "datetime"
        },
        {
         "name": "Close",
         "rawType": "float64",
         "type": "float"
        },
        {
         "name": "High",
         "rawType": "float64",
         "type": "float"
        },
        {
         "name": "Low",
         "rawType": "float64",
         "type": "float"
        },
        {
         "name": "Open",
         "rawType": "float64",
         "type": "float"
        },
        {
         "name": "Volume",
         "rawType": "int64",
         "type": "integer"
        }
       ],
       "conversionMethod": "pd.DataFrame",
       "ref": "a7edb500-9010-45fd-9b29-fc301b92084a",
       "rows": [
        [
         "2021-03-15 00:00:00",
         "121.29204559326172",
         "121.30183008866133",
         "117.79972707392189",
         "118.76819060713663",
         "92403800"
        ],
        [
         "2021-03-16 00:00:00",
         "122.83769226074219",
         "124.45179101170382",
         "122.00618910521187",
         "122.96486087306127",
         "115227900"
        ],
        [
         "2021-03-17 00:00:00",
         "122.0452880859375",
         "123.12135115398401",
         "119.67794038017584",
         "121.35073821962219",
         "111932600"
        ],
        [
         "2021-03-18 00:00:00",
         "117.9073486328125",
         "120.49968794214433",
         "117.70191898445727",
         "120.20621275113163",
         "121229700"
        ],
        [
         "2021-03-19 00:00:00",
         "117.37910461425781",
         "118.78777367187806",
         "117.07585237233634",
         "117.29106652984883",
         "185549500"
        ],
        [
         "2021-03-22 00:00:00",
         "120.70510864257812",
         "121.17466742071305",
         "117.64321821066616",
         "117.71169475504172",
         "111912300"
        ],
        [
         "2021-03-23 00:00:00",
         "119.87361907958984",
         "121.53662532316353",
         "119.48232129775354",
         "120.6464301462858",
         "95467100"
        ],
        [
         "2021-03-24 00:00:00",
         "117.4769058227539",
         "120.22576688443581",
         "117.45734429535013",
         "120.14750584805427",
         "88530500"
        ],
        [
         "2021-03-25 00:00:00",
         "117.9660415649414",
         "119.01276627110943",
         "116.41064244577936",
         "116.93889331550916",
         "98844700"
        ],
        [
         "2021-03-26 00:00:00",
         "118.57254791259766",
         "118.83667706674994",
         "116.33237593563868",
         "117.731260359211",
         "94071200"
        ],
        [
         "2021-03-29 00:00:00",
         "118.7486343383789",
         "119.91274312400247",
         "118.10299937711603",
         "119.00297900233532",
         "80819200"
        ],
        [
         "2021-03-30 00:00:00",
         "117.29108428955078",
         "117.78020473490889",
         "116.27371286759964",
         "117.4965139809949",
         "85671900"
        ],
        [
         "2021-03-31 00:00:00",
         "119.49210357666016",
         "120.83228856558793",
         "118.51386287192022",
         "119.00298322429019",
         "118323800"
        ],
        [
         "2021-04-01 00:00:00",
         "120.32361602783203",
         "121.47794044761005",
         "119.8247111399201",
         "120.96925852552806",
         "75089100"
        ],
        [
         "2021-04-05 00:00:00",
         "123.16050720214844",
         "123.41485187715786",
         "120.39208419443258",
         "121.17467974982267",
         "88651200"
        ],
        [
         "2021-04-06 00:00:00",
         "123.46376037597656",
         "124.3637400471671",
         "122.91594796105788",
         "123.74745108038357",
         "80171300"
        ],
        [
         "2021-04-07 00:00:00",
         "125.11698150634766",
         "125.13654303559613",
         "122.417035203639",
         "123.09202364516216",
         "83466700"
        ],
        [
         "2021-04-08 00:00:00",
         "127.5234375",
         "127.5527835220837",
         "125.723478487292",
         "126.14411475500228",
         "88844600"
        ],
        [
         "2021-04-09 00:00:00",
         "130.1060028076172",
         "130.14512586474413",
         "126.65281460393234",
         "126.97563580060692",
         "106686700"
        ],
        [
         "2021-04-12 00:00:00",
         "128.38430786132812",
         "129.9592758997672",
         "127.78758046970171",
         "129.6364546951069",
         "91420000"
        ],
        [
         "2021-04-13 00:00:00",
         "131.5048370361328",
         "131.7298430535515",
         "129.059236273636",
         "129.55814838231333",
         "91266500"
        ],
        [
         "2021-04-14 00:00:00",
         "129.15708923339844",
         "132.06246464983604",
         "128.79514503277485",
         "132.0037726093852",
         "87222800"
        ],
        [
         "2021-04-15 00:00:00",
         "131.57333374023438",
         "132.0624539400122",
         "130.73204639954596",
         "130.90813743338322",
         "89347100"
        ],
        [
         "2021-04-16 00:00:00",
         "131.24078369140625",
         "131.73968110440896",
         "130.37992704769707",
         "131.37773680047187",
         "84922400"
        ],
        [
         "2021-04-19 00:00:00",
         "131.90594482421875",
         "132.52224111291792",
         "130.4385840810419",
         "130.60488317405677",
         "94264200"
        ],
        [
         "2021-04-20 00:00:00",
         "130.213623046875",
         "132.5809638018916",
         "128.9419071234644",
         "132.0820664075215",
         "94812300"
        ],
        [
         "2021-04-21 00:00:00",
         "130.59510803222656",
         "130.83966815962773",
         "128.44298189644934",
         "129.47991444834784",
         "68847100"
        ],
        [
         "2021-04-22 00:00:00",
         "129.0690460205078",
         "131.23094903356164",
         "128.55057978153482",
         "130.1451015482709",
         "84566500"
        ],
        [
         "2021-04-23 00:00:00",
         "131.39727783203125",
         "132.17985833056576",
         "129.28427466174912",
         "129.28427466174912",
         "78657500"
        ],
        [
         "2021-04-26 00:00:00",
         "131.78858947753906",
         "132.12118773609112",
         "130.65382667295944",
         "131.8961965525728",
         "66905100"
        ],
        [
         "2021-04-27 00:00:00",
         "131.46575927734375",
         "132.46356891164857",
         "131.1918530917334",
         "132.07226369879982",
         "66015800"
        ],
        [
         "2021-04-28 00:00:00",
         "130.67337036132812",
         "132.08203909742446",
         "130.18425010167056",
         "131.38748176093378",
         "107760100"
        ],
        [
         "2021-04-29 00:00:00",
         "130.57554626464844",
         "134.08744123271336",
         "129.56795967816743",
         "133.5004909237802",
         "151101000"
        ],
        [
         "2021-04-30 00:00:00",
         "128.59951782226562",
         "130.65381415781053",
         "128.21800457946676",
         "128.91254705716273",
         "109839500"
        ],
        [
         "2021-05-03 00:00:00",
         "129.65603637695312",
         "131.1527586179982",
         "128.96149372877142",
         "129.16691594936623",
         "75135100"
        ],
        [
         "2021-05-04 00:00:00",
         "125.06808471679688",
         "128.62888809310314",
         "123.94310630475424",
         "128.3354128679146",
         "137564700"
        ],
        [
         "2021-05-05 00:00:00",
         "125.31261444091797",
         "127.61147066756747",
         "125.18543839892656",
         "126.38867003846705",
         "84000900"
        ],
        [
         "2021-05-06 00:00:00",
         "126.91694641113281",
         "126.9267234439276",
         "124.36373027215305",
         "125.10719525066649",
         "78128300"
        ],
        [
         "2021-05-07 00:00:00",
         "127.59309387207031",
         "128.62197939641553",
         "126.87775437814886",
         "128.2202307892884",
         "78973300"
        ],
        [
         "2021-05-10 00:00:00",
         "124.30062103271484",
         "126.93655347047559",
         "124.26142403861365",
         "126.80917632275558",
         "88071200"
        ],
        [
         "2021-05-11 00:00:00",
         "123.37950897216797",
         "123.732266941607",
         "120.30260870284276",
         "121.01794071068072",
         "126142800"
        ],
        [
         "2021-05-12 00:00:00",
         "120.30259704589844",
         "122.13501696157893",
         "119.79305116069399",
         "120.91994025373684",
         "112172300"
        ],
        [
         "2021-05-13 00:00:00",
         "122.45838165283203",
         "123.6146665716941",
         "121.76265197362714",
         "122.07622038504428",
         "105861300"
        ],
        [
         "2021-05-14 00:00:00",
         "124.8885498046875",
         "125.31970922511546",
         "123.32070756139703",
         "123.71266999123503",
         "81918000"
        ],
        [
         "2021-05-17 00:00:00",
         "123.73226165771484",
         "124.37900077220148",
         "122.65437060963178",
         "124.27121091978704",
         "74244600"
        ],
        [
         "2021-05-18 00:00:00",
         "122.3407974243164",
         "124.4377876927737",
         "122.2722045641729",
         "124.01642941587465",
         "63342900"
        ],
        [
         "2021-05-19 00:00:00",
         "122.18401336669922",
         "122.40938669653873",
         "120.39079046342964",
         "120.68476412746298",
         "92612000"
        ],
        [
         "2021-05-20 00:00:00",
         "124.75135040283203",
         "125.15311390529939",
         "122.58576737350162",
         "122.7131594479721",
         "76857100"
        ],
        [
         "2021-05-21 00:00:00",
         "122.90913391113281",
         "125.42748227973826",
         "122.69355422979483",
         "125.25109958373996",
         "79295400"
        ],
        [
         "2021-05-24 00:00:00",
         "124.54556274414062",
         "125.36868444413138",
         "123.40888012879931",
         "123.47747298079354",
         "63092900"
        ]
       ],
       "shape": {
        "columns": 5,
        "rows": 705
       }
      },
      "text/html": [
       "<div>\n",
       "<style scoped>\n",
       "    .dataframe tbody tr th:only-of-type {\n",
       "        vertical-align: middle;\n",
       "    }\n",
       "\n",
       "    .dataframe tbody tr th {\n",
       "        vertical-align: top;\n",
       "    }\n",
       "\n",
       "    .dataframe thead th {\n",
       "        text-align: right;\n",
       "    }\n",
       "</style>\n",
       "<table border=\"1\" class=\"dataframe\">\n",
       "  <thead>\n",
       "    <tr style=\"text-align: right;\">\n",
       "      <th>Price</th>\n",
       "      <th>Close</th>\n",
       "      <th>High</th>\n",
       "      <th>Low</th>\n",
       "      <th>Open</th>\n",
       "      <th>Volume</th>\n",
       "    </tr>\n",
       "    <tr>\n",
       "      <th>Date</th>\n",
       "      <th></th>\n",
       "      <th></th>\n",
       "      <th></th>\n",
       "      <th></th>\n",
       "      <th></th>\n",
       "    </tr>\n",
       "  </thead>\n",
       "  <tbody>\n",
       "    <tr>\n",
       "      <th>2021-03-15</th>\n",
       "      <td>121.292046</td>\n",
       "      <td>121.301830</td>\n",
       "      <td>117.799727</td>\n",
       "      <td>118.768191</td>\n",
       "      <td>92403800</td>\n",
       "    </tr>\n",
       "    <tr>\n",
       "      <th>2021-03-16</th>\n",
       "      <td>122.837692</td>\n",
       "      <td>124.451791</td>\n",
       "      <td>122.006189</td>\n",
       "      <td>122.964861</td>\n",
       "      <td>115227900</td>\n",
       "    </tr>\n",
       "    <tr>\n",
       "      <th>2021-03-17</th>\n",
       "      <td>122.045288</td>\n",
       "      <td>123.121351</td>\n",
       "      <td>119.677940</td>\n",
       "      <td>121.350738</td>\n",
       "      <td>111932600</td>\n",
       "    </tr>\n",
       "    <tr>\n",
       "      <th>2021-03-18</th>\n",
       "      <td>117.907349</td>\n",
       "      <td>120.499688</td>\n",
       "      <td>117.701919</td>\n",
       "      <td>120.206213</td>\n",
       "      <td>121229700</td>\n",
       "    </tr>\n",
       "    <tr>\n",
       "      <th>2021-03-19</th>\n",
       "      <td>117.379105</td>\n",
       "      <td>118.787774</td>\n",
       "      <td>117.075852</td>\n",
       "      <td>117.291067</td>\n",
       "      <td>185549500</td>\n",
       "    </tr>\n",
       "    <tr>\n",
       "      <th>...</th>\n",
       "      <td>...</td>\n",
       "      <td>...</td>\n",
       "      <td>...</td>\n",
       "      <td>...</td>\n",
       "      <td>...</td>\n",
       "    </tr>\n",
       "    <tr>\n",
       "      <th>2023-12-22</th>\n",
       "      <td>192.444595</td>\n",
       "      <td>194.243791</td>\n",
       "      <td>191.818350</td>\n",
       "      <td>194.015153</td>\n",
       "      <td>37122800</td>\n",
       "    </tr>\n",
       "    <tr>\n",
       "      <th>2023-12-26</th>\n",
       "      <td>191.897873</td>\n",
       "      <td>192.732856</td>\n",
       "      <td>191.679185</td>\n",
       "      <td>192.454528</td>\n",
       "      <td>28919300</td>\n",
       "    </tr>\n",
       "    <tr>\n",
       "      <th>2023-12-27</th>\n",
       "      <td>191.997253</td>\n",
       "      <td>192.345171</td>\n",
       "      <td>189.949550</td>\n",
       "      <td>191.341204</td>\n",
       "      <td>48087700</td>\n",
       "    </tr>\n",
       "    <tr>\n",
       "      <th>2023-12-28</th>\n",
       "      <td>192.424698</td>\n",
       "      <td>193.498254</td>\n",
       "      <td>192.017141</td>\n",
       "      <td>192.981353</td>\n",
       "      <td>34049900</td>\n",
       "    </tr>\n",
       "    <tr>\n",
       "      <th>2023-12-29</th>\n",
       "      <td>191.380966</td>\n",
       "      <td>193.239801</td>\n",
       "      <td>190.585738</td>\n",
       "      <td>192.742785</td>\n",
       "      <td>42628800</td>\n",
       "    </tr>\n",
       "  </tbody>\n",
       "</table>\n",
       "<p>705 rows × 5 columns</p>\n",
       "</div>"
      ],
      "text/plain": [
       "Price            Close        High         Low        Open     Volume\n",
       "Date                                                                 \n",
       "2021-03-15  121.292046  121.301830  117.799727  118.768191   92403800\n",
       "2021-03-16  122.837692  124.451791  122.006189  122.964861  115227900\n",
       "2021-03-17  122.045288  123.121351  119.677940  121.350738  111932600\n",
       "2021-03-18  117.907349  120.499688  117.701919  120.206213  121229700\n",
       "2021-03-19  117.379105  118.787774  117.075852  117.291067  185549500\n",
       "...                ...         ...         ...         ...        ...\n",
       "2023-12-22  192.444595  194.243791  191.818350  194.015153   37122800\n",
       "2023-12-26  191.897873  192.732856  191.679185  192.454528   28919300\n",
       "2023-12-27  191.997253  192.345171  189.949550  191.341204   48087700\n",
       "2023-12-28  192.424698  193.498254  192.017141  192.981353   34049900\n",
       "2023-12-29  191.380966  193.239801  190.585738  192.742785   42628800\n",
       "\n",
       "[705 rows x 5 columns]"
      ]
     },
     "execution_count": 54,
     "metadata": {},
     "output_type": "execute_result"
    }
   ],
   "source": [
    "df[train_size:len(X)]"
   ]
  }
 ],
 "metadata": {
  "kernelspec": {
   "display_name": ".venv",
   "language": "python",
   "name": "python3"
  },
  "language_info": {
   "codemirror_mode": {
    "name": "ipython",
    "version": 3
   },
   "file_extension": ".py",
   "mimetype": "text/x-python",
   "name": "python",
   "nbconvert_exporter": "python",
   "pygments_lexer": "ipython3",
   "version": "3.12.7"
  }
 },
 "nbformat": 4,
 "nbformat_minor": 2
}
